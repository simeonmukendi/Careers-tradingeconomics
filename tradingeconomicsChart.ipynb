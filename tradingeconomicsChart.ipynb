{
 "cells": [
  {
   "cell_type": "code",
   "execution_count": 1,
   "metadata": {},
   "outputs": [],
   "source": [
    "import pandas as pd\n",
    "import numpy as np\n",
    "from IPython.display import display,HTML\n",
    "import matplotlib.pyplot as plt\n",
    "import tradingeconomics as te\n",
    "te.login()\n",
    "import json"
   ]
  },
  {
   "cell_type": "code",
   "execution_count": 2,
   "metadata": {},
   "outputs": [
    {
     "data": {
      "text/html": [
       "<div>\n",
       "<style scoped>\n",
       "    .dataframe tbody tr th:only-of-type {\n",
       "        vertical-align: middle;\n",
       "    }\n",
       "\n",
       "    .dataframe tbody tr th {\n",
       "        vertical-align: top;\n",
       "    }\n",
       "\n",
       "    .dataframe thead th {\n",
       "        text-align: right;\n",
       "    }\n",
       "</style>\n",
       "<table border=\"1\" class=\"dataframe\">\n",
       "  <thead>\n",
       "    <tr style=\"text-align: right;\">\n",
       "      <th></th>\n",
       "      <th>United States</th>\n",
       "    </tr>\n",
       "  </thead>\n",
       "  <tbody>\n",
       "    <tr>\n",
       "      <th>GDP</th>\n",
       "      <td>[{'LatestValue': 19390.6, 'LatestValueDate': '...</td>\n",
       "    </tr>\n",
       "  </tbody>\n",
       "</table>\n",
       "</div>"
      ],
      "text/plain": [
       "                                         United States\n",
       "GDP  [{'LatestValue': 19390.6, 'LatestValueDate': '..."
      ]
     },
     "execution_count": 2,
     "metadata": {},
     "output_type": "execute_result"
    }
   ],
   "source": [
    "US=te.getIndicatorData(country='united states', indicators='gdp')\n",
    "US=pd.DataFrame(US)\n",
    "US"
   ]
  },
  {
   "cell_type": "code",
   "execution_count": 3,
   "metadata": {},
   "outputs": [
    {
     "data": {
      "text/html": [
       "<div>\n",
       "<style scoped>\n",
       "    .dataframe tbody tr th:only-of-type {\n",
       "        vertical-align: middle;\n",
       "    }\n",
       "\n",
       "    .dataframe tbody tr th {\n",
       "        vertical-align: top;\n",
       "    }\n",
       "\n",
       "    .dataframe thead th {\n",
       "        text-align: right;\n",
       "    }\n",
       "</style>\n",
       "<table border=\"1\" class=\"dataframe\">\n",
       "  <thead>\n",
       "    <tr style=\"text-align: right;\">\n",
       "      <th></th>\n",
       "      <th>Country</th>\n",
       "      <th>Category</th>\n",
       "      <th>LatestValue</th>\n",
       "      <th>LatestValueDate</th>\n",
       "      <th>Source</th>\n",
       "      <th>Unit</th>\n",
       "      <th>CategoryGroup</th>\n",
       "      <th>Frequency</th>\n",
       "      <th>PreviousValue</th>\n",
       "      <th>PreviousValueDate</th>\n",
       "    </tr>\n",
       "  </thead>\n",
       "  <tbody>\n",
       "    <tr>\n",
       "      <th>0</th>\n",
       "      <td>China</td>\n",
       "      <td>GDP</td>\n",
       "      <td>12237.7</td>\n",
       "      <td>2017-12-31T00:00:00</td>\n",
       "      <td>World Bank</td>\n",
       "      <td>USD Billion</td>\n",
       "      <td>GDP</td>\n",
       "      <td>Yearly</td>\n",
       "      <td>11190.99</td>\n",
       "      <td>2016-12-31T00:00:00</td>\n",
       "    </tr>\n",
       "    <tr>\n",
       "      <th>1</th>\n",
       "      <td>United States</td>\n",
       "      <td>GDP</td>\n",
       "      <td>19390.6</td>\n",
       "      <td>2017-12-31T00:00:00</td>\n",
       "      <td>World Bank</td>\n",
       "      <td>USD Billion</td>\n",
       "      <td>GDP</td>\n",
       "      <td>Yearly</td>\n",
       "      <td>18624.48</td>\n",
       "      <td>2016-12-31T00:00:00</td>\n",
       "    </tr>\n",
       "  </tbody>\n",
       "</table>\n",
       "</div>"
      ],
      "text/plain": [
       "         Country Category  LatestValue      LatestValueDate      Source  \\\n",
       "0          China      GDP      12237.7  2017-12-31T00:00:00  World Bank   \n",
       "1  United States      GDP      19390.6  2017-12-31T00:00:00  World Bank   \n",
       "\n",
       "          Unit CategoryGroup Frequency  PreviousValue    PreviousValueDate  \n",
       "0  USD Billion           GDP    Yearly       11190.99  2016-12-31T00:00:00  \n",
       "1  USD Billion           GDP    Yearly       18624.48  2016-12-31T00:00:00  "
      ]
     },
     "execution_count": 3,
     "metadata": {},
     "output_type": "execute_result"
    }
   ],
   "source": [
    "te.getIndicatorData(country=['united states','china'], indicators='gdp', output_type='df')"
   ]
  },
  {
   "cell_type": "code",
   "execution_count": 4,
   "metadata": {},
   "outputs": [
    {
     "data": {
      "text/html": [
       "<div>\n",
       "<style scoped>\n",
       "    .dataframe tbody tr th:only-of-type {\n",
       "        vertical-align: middle;\n",
       "    }\n",
       "\n",
       "    .dataframe tbody tr th {\n",
       "        vertical-align: top;\n",
       "    }\n",
       "\n",
       "    .dataframe thead th {\n",
       "        text-align: right;\n",
       "    }\n",
       "</style>\n",
       "<table border=\"1\" class=\"dataframe\">\n",
       "  <thead>\n",
       "    <tr style=\"text-align: right;\">\n",
       "      <th></th>\n",
       "      <th>Country</th>\n",
       "      <th>Category</th>\n",
       "      <th>LatestValue</th>\n",
       "      <th>LatestValueDate</th>\n",
       "      <th>Source</th>\n",
       "      <th>Unit</th>\n",
       "      <th>CategoryGroup</th>\n",
       "      <th>Frequency</th>\n",
       "      <th>PreviousValue</th>\n",
       "      <th>PreviousValueDate</th>\n",
       "    </tr>\n",
       "  </thead>\n",
       "  <tbody>\n",
       "    <tr>\n",
       "      <th>0</th>\n",
       "      <td>United States</td>\n",
       "      <td>GDP</td>\n",
       "      <td>19390.6</td>\n",
       "      <td>2017-12-31T00:00:00</td>\n",
       "      <td>World Bank</td>\n",
       "      <td>USD Billion</td>\n",
       "      <td>GDP</td>\n",
       "      <td>Yearly</td>\n",
       "      <td>18624.48</td>\n",
       "      <td>2016-12-31T00:00:00</td>\n",
       "    </tr>\n",
       "  </tbody>\n",
       "</table>\n",
       "</div>"
      ],
      "text/plain": [
       "         Country Category  LatestValue      LatestValueDate      Source  \\\n",
       "0  United States      GDP      19390.6  2017-12-31T00:00:00  World Bank   \n",
       "\n",
       "          Unit CategoryGroup Frequency  PreviousValue    PreviousValueDate  \n",
       "0  USD Billion           GDP    Yearly       18624.48  2016-12-31T00:00:00  "
      ]
     },
     "execution_count": 4,
     "metadata": {},
     "output_type": "execute_result"
    }
   ],
   "source": [
    "te.getIndicatorData(country='united states', indicators='gdp',output_type='df')\n"
   ]
  },
  {
   "cell_type": "code",
   "execution_count": 5,
   "metadata": {},
   "outputs": [
    {
     "data": {
      "text/html": [
       "<div>\n",
       "<style scoped>\n",
       "    .dataframe tbody tr th:only-of-type {\n",
       "        vertical-align: middle;\n",
       "    }\n",
       "\n",
       "    .dataframe tbody tr th {\n",
       "        vertical-align: top;\n",
       "    }\n",
       "\n",
       "    .dataframe thead th {\n",
       "        text-align: right;\n",
       "    }\n",
       "</style>\n",
       "<table border=\"1\" class=\"dataframe\">\n",
       "  <thead>\n",
       "    <tr style=\"text-align: right;\">\n",
       "      <th></th>\n",
       "      <th>Country</th>\n",
       "      <th>Category</th>\n",
       "      <th>LatestValue</th>\n",
       "      <th>LatestValueDate</th>\n",
       "      <th>Source</th>\n",
       "      <th>Unit</th>\n",
       "      <th>CategoryGroup</th>\n",
       "      <th>Frequency</th>\n",
       "      <th>PreviousValue</th>\n",
       "      <th>PreviousValueDate</th>\n",
       "    </tr>\n",
       "  </thead>\n",
       "  <tbody>\n",
       "    <tr>\n",
       "      <th>0</th>\n",
       "      <td>United States</td>\n",
       "      <td>ADP Employment Change</td>\n",
       "      <td>275.0</td>\n",
       "      <td>2019-04-30T00:00:00</td>\n",
       "      <td>Automatic Data Processing, Inc.</td>\n",
       "      <td>Thousand</td>\n",
       "      <td>Labour</td>\n",
       "      <td>Monthly</td>\n",
       "      <td>151.0</td>\n",
       "      <td>2019-03-31T00:00:00</td>\n",
       "    </tr>\n",
       "    <tr>\n",
       "      <th>1</th>\n",
       "      <td>United States</td>\n",
       "      <td>API Crude Oil Stock Change</td>\n",
       "      <td>2.4</td>\n",
       "      <td>2019-05-17T00:00:00</td>\n",
       "      <td>American Petroleum Institute (API)</td>\n",
       "      <td>BBL/1Million</td>\n",
       "      <td>Business</td>\n",
       "      <td>Weekly</td>\n",
       "      <td>8.6</td>\n",
       "      <td>2019-05-10T00:00:00</td>\n",
       "    </tr>\n",
       "    <tr>\n",
       "      <th>2</th>\n",
       "      <td>United States</td>\n",
       "      <td>Asylum Applications</td>\n",
       "      <td>7267.0</td>\n",
       "      <td>2018-09-30T00:00:00</td>\n",
       "      <td>United Nations Refugee Agency</td>\n",
       "      <td>Persons</td>\n",
       "      <td>Government</td>\n",
       "      <td>Monthly</td>\n",
       "      <td>7682.0</td>\n",
       "      <td>2018-08-31T00:00:00</td>\n",
       "    </tr>\n",
       "    <tr>\n",
       "      <th>3</th>\n",
       "      <td>United States</td>\n",
       "      <td>Average Hourly Earnings</td>\n",
       "      <td>0.2</td>\n",
       "      <td>2019-04-30T00:00:00</td>\n",
       "      <td>U.S. Bureau of Labor Statistics</td>\n",
       "      <td>percent</td>\n",
       "      <td>Labour</td>\n",
       "      <td>Monthly</td>\n",
       "      <td>0.2</td>\n",
       "      <td>2019-03-31T00:00:00</td>\n",
       "    </tr>\n",
       "    <tr>\n",
       "      <th>4</th>\n",
       "      <td>United States</td>\n",
       "      <td>Average Weekly Hours</td>\n",
       "      <td>34.4</td>\n",
       "      <td>2019-04-30T00:00:00</td>\n",
       "      <td>U.S. Bureau of Labor Statistics</td>\n",
       "      <td>Hours</td>\n",
       "      <td>Labour</td>\n",
       "      <td>Monthly</td>\n",
       "      <td>34.5</td>\n",
       "      <td>2019-03-31T00:00:00</td>\n",
       "    </tr>\n",
       "    <tr>\n",
       "      <th>5</th>\n",
       "      <td>United States</td>\n",
       "      <td>Balance of Trade</td>\n",
       "      <td>-50000.0</td>\n",
       "      <td>2019-03-31T00:00:00</td>\n",
       "      <td>U.S. Census Bureau</td>\n",
       "      <td>USD Million</td>\n",
       "      <td>Trade</td>\n",
       "      <td>Monthly</td>\n",
       "      <td>-49300.0</td>\n",
       "      <td>2019-02-28T00:00:00</td>\n",
       "    </tr>\n",
       "    <tr>\n",
       "      <th>6</th>\n",
       "      <td>United States</td>\n",
       "      <td>Bank Lending Rate</td>\n",
       "      <td>5.5</td>\n",
       "      <td>2019-04-30T00:00:00</td>\n",
       "      <td>Federal Reserve</td>\n",
       "      <td>percent</td>\n",
       "      <td>Consumer</td>\n",
       "      <td>Monthly</td>\n",
       "      <td>5.5</td>\n",
       "      <td>2019-03-31T00:00:00</td>\n",
       "    </tr>\n",
       "    <tr>\n",
       "      <th>7</th>\n",
       "      <td>United States</td>\n",
       "      <td>Bankruptcies</td>\n",
       "      <td>22157.0</td>\n",
       "      <td>2019-03-31T00:00:00</td>\n",
       "      <td>Administrative Office of the U.S. Courts</td>\n",
       "      <td>Companies</td>\n",
       "      <td>Business</td>\n",
       "      <td>Quarterly</td>\n",
       "      <td>22232.0</td>\n",
       "      <td>2018-12-31T00:00:00</td>\n",
       "    </tr>\n",
       "    <tr>\n",
       "      <th>8</th>\n",
       "      <td>United States</td>\n",
       "      <td>Banks Balance Sheet</td>\n",
       "      <td>17088467.0</td>\n",
       "      <td>2019-02-13T00:00:00</td>\n",
       "      <td>Federal Reserve</td>\n",
       "      <td>USD Million</td>\n",
       "      <td>Money</td>\n",
       "      <td>Weekly</td>\n",
       "      <td>17039662.0</td>\n",
       "      <td>2019-02-06T00:00:00</td>\n",
       "    </tr>\n",
       "    <tr>\n",
       "      <th>9</th>\n",
       "      <td>United States</td>\n",
       "      <td>Building Permits</td>\n",
       "      <td>1290.0</td>\n",
       "      <td>2019-04-30T00:00:00</td>\n",
       "      <td>U.S. Census Bureau</td>\n",
       "      <td>Thousand</td>\n",
       "      <td>Housing</td>\n",
       "      <td>Monthly</td>\n",
       "      <td>1288.0</td>\n",
       "      <td>2019-03-31T00:00:00</td>\n",
       "    </tr>\n",
       "  </tbody>\n",
       "</table>\n",
       "</div>"
      ],
      "text/plain": [
       "         Country                    Category  LatestValue  \\\n",
       "0  United States       ADP Employment Change        275.0   \n",
       "1  United States  API Crude Oil Stock Change          2.4   \n",
       "2  United States         Asylum Applications       7267.0   \n",
       "3  United States     Average Hourly Earnings          0.2   \n",
       "4  United States        Average Weekly Hours         34.4   \n",
       "5  United States            Balance of Trade     -50000.0   \n",
       "6  United States           Bank Lending Rate          5.5   \n",
       "7  United States                Bankruptcies      22157.0   \n",
       "8  United States         Banks Balance Sheet   17088467.0   \n",
       "9  United States            Building Permits       1290.0   \n",
       "\n",
       "       LatestValueDate                                    Source  \\\n",
       "0  2019-04-30T00:00:00           Automatic Data Processing, Inc.   \n",
       "1  2019-05-17T00:00:00        American Petroleum Institute (API)   \n",
       "2  2018-09-30T00:00:00             United Nations Refugee Agency   \n",
       "3  2019-04-30T00:00:00           U.S. Bureau of Labor Statistics   \n",
       "4  2019-04-30T00:00:00           U.S. Bureau of Labor Statistics   \n",
       "5  2019-03-31T00:00:00                        U.S. Census Bureau   \n",
       "6  2019-04-30T00:00:00                           Federal Reserve   \n",
       "7  2019-03-31T00:00:00  Administrative Office of the U.S. Courts   \n",
       "8  2019-02-13T00:00:00                           Federal Reserve   \n",
       "9  2019-04-30T00:00:00                        U.S. Census Bureau   \n",
       "\n",
       "           Unit CategoryGroup  Frequency  PreviousValue    PreviousValueDate  \n",
       "0      Thousand        Labour    Monthly          151.0  2019-03-31T00:00:00  \n",
       "1  BBL/1Million      Business     Weekly            8.6  2019-05-10T00:00:00  \n",
       "2       Persons    Government    Monthly         7682.0  2018-08-31T00:00:00  \n",
       "3       percent        Labour    Monthly            0.2  2019-03-31T00:00:00  \n",
       "4         Hours        Labour    Monthly           34.5  2019-03-31T00:00:00  \n",
       "5   USD Million         Trade    Monthly       -49300.0  2019-02-28T00:00:00  \n",
       "6       percent      Consumer    Monthly            5.5  2019-03-31T00:00:00  \n",
       "7     Companies      Business  Quarterly        22232.0  2018-12-31T00:00:00  \n",
       "8   USD Million         Money     Weekly     17039662.0  2019-02-06T00:00:00  \n",
       "9      Thousand       Housing    Monthly         1288.0  2019-03-31T00:00:00  "
      ]
     },
     "execution_count": 5,
     "metadata": {},
     "output_type": "execute_result"
    }
   ],
   "source": [
    "US=te.getIndicatorData(country='united states', output_type='df')\n",
    "US"
   ]
  },
  {
   "cell_type": "code",
   "execution_count": 6,
   "metadata": {},
   "outputs": [],
   "source": [
    "x=np.array(US.Category)\n",
    "y=np.array(US.LatestValue)\n"
   ]
  },
  {
   "cell_type": "code",
   "execution_count": 7,
   "metadata": {},
   "outputs": [
    {
     "data": {
      "text/plain": [
       "Text(0.5, 1.0, 'LastetValue of US categories')"
      ]
     },
     "execution_count": 7,
     "metadata": {},
     "output_type": "execute_result"
    },
    {
     "data": {
      "image/png": "[encoded data removed]",
      "text/plain": [
       "<Figure size 1440x720 with 1 Axes>"
      ]
     },
     "metadata": {
      "needs_background": "light"
     },
     "output_type": "display_data"
    }
   ],
   "source": [
    "plt.figure(figsize=(20,10))\n",
    "plt.plot(x,y)\n",
    "plt.ylabel('LastetValue')\n",
    "plt.title('LastetValue of US categories')"
   ]
  },
  {
   "cell_type": "code",
   "execution_count": 8,
   "metadata": {},
   "outputs": [
    {
     "data": {
      "text/plain": [
       "<Figure size 288x360 with 0 Axes>"
      ]
     },
     "execution_count": 8,
     "metadata": {},
     "output_type": "execute_result"
    },
    {
     "data": {
      "text/plain": [
       "<Figure size 288x360 with 0 Axes>"
      ]
     },
     "metadata": {},
     "output_type": "display_data"
    }
   ],
   "source": [
    "plt.figure(figsize=(4,5))"
   ]
  },
  {
   "cell_type": "code",
   "execution_count": 9,
   "metadata": {},
   "outputs": [
    {
     "data": {
      "text/plain": [
       "Text(0.5, 1.0, 'LastetValue of US categories')"
      ]
     },
     "execution_count": 9,
     "metadata": {},
     "output_type": "execute_result"
    },
    {
     "data": {
      "image/png": "[encoded data removed]",
      "text/plain": [
       "<Figure size 1440x720 with 1 Axes>"
      ]
     },
     "metadata": {
      "needs_background": "light"
     },
     "output_type": "display_data"
    }
   ],
   "source": [
    "plt.figure(figsize=(20,10))\n",
    "plt.bar(x,y)\n",
    "plt.ylabel('LastetValue')\n",
    "plt.title('LastetValue of US categories')"
   ]
  },
  {
   "cell_type": "code",
   "execution_count": 10,
   "metadata": {},
   "outputs": [
    {
     "data": {
      "text/plain": [
       "Text(0.5, 1.0, 'LastetValue of US categories')"
      ]
     },
     "execution_count": 10,
     "metadata": {},
     "output_type": "execute_result"
    },
    {
     "data": {
      "image/png": "[encoded data removed]",
      "text/plain": [
       "<Figure size 1440x720 with 1 Axes>"
      ]
     },
     "metadata": {
      "needs_background": "light"
     },
     "output_type": "display_data"
    }
   ],
   "source": [
    "plt.figure(figsize=(20,10))\n",
    "plt.scatter(x,y)\n",
    "plt.ylabel('LastetValue')\n",
    "plt.title('LastetValue of US categories')"
   ]
  },
  {
   "cell_type": "code",
   "execution_count": 11,
   "metadata": {},
   "outputs": [
    {
     "data": {
      "text/html": [
       " <p style=\"text-align:center\"> United States and China Indicators</p>   "
      ],
      "text/plain": [
       "<IPython.core.display.HTML object>"
      ]
     },
     "metadata": {},
     "output_type": "display_data"
    }
   ],
   "source": [
    "display(HTML(' <p style=\"text-align:center\"> United States and China Indicators</p>   '))"
   ]
  },
  {
   "cell_type": "code",
   "execution_count": null,
   "metadata": {},
   "outputs": [],
   "source": []
  }
 ],
 "metadata": {
  "kernelspec": {
   "display_name": "Python 3",
   "language": "python",
   "name": "python3"
  },
  "language_info": {
   "codemirror_mode": {
    "name": "ipython",
    "version": 3
   },
   "file_extension": ".py",
   "mimetype": "text/x-python",
   "name": "python",
   "nbconvert_exporter": "python",
   "pygments_lexer": "ipython3",
   "version": "3.6.8"
  }
 },
 "nbformat": 4,
 "nbformat_minor": 2
}
